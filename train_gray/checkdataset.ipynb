{
 "cells": [
  {
   "cell_type": "code",
   "execution_count": 1,
   "metadata": {},
   "outputs": [],
   "source": [
    "from gray_data_loader import MVTecDRAEMTrainDatasetGray\n",
    "dataset = MVTecDRAEMTrainDatasetGray('/home/zhougaowei/datasets/xray/mvtec/bubbles1k', '/home/zhougaowei/datasets/dtd/images', mode='ms', mean=[0.9204377, 0.8543714, 0.76560506, 0.70656047, 0.64964986], std=[0.24307425, 0.28312342, 0.34987381, 0.40316393, 0.42631796])\n",
    "data = dataset[0]\n",
    "image = data['image']\n",
    "anomaly_mask = data['anomaly_mask']\n",
    "augmented_image = data['augmented_image']\n",
    "has_anomaly = data['has_anomaly']"
   ]
  },
  {
   "cell_type": "code",
   "execution_count": 2,
   "metadata": {},
   "outputs": [
    {
     "name": "stdout",
     "output_type": "stream",
     "text": [
      "1.0\n"
     ]
    }
   ],
   "source": [
    "from train_draem_gray import gray_visualize\n"
   ]
  }
 ],
 "metadata": {
  "kernelspec": {
   "display_name": "vuniad",
   "language": "python",
   "name": "python3"
  },
  "language_info": {
   "codemirror_mode": {
    "name": "ipython",
    "version": 3
   },
   "file_extension": ".py",
   "mimetype": "text/x-python",
   "name": "python",
   "nbconvert_exporter": "python",
   "pygments_lexer": "ipython3",
   "version": "3.8.17"
  }
 },
 "nbformat": 4,
 "nbformat_minor": 2
}
