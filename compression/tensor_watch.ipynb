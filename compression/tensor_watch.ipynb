{
 "cells": [
  {
   "cell_type": "code",
   "execution_count": null,
   "metadata": {},
   "outputs": [],
   "source": [
    "import tensorwatch as tw\n",
    "import path, sys\n",
    "cur_path = path.Path('.').abspath()\n",
    "sys.path.append(cur_path.parent.parent)\n",
    "from DRAEM.test.model_pack import DRAEMPack\n",
    "\n",
    "\n",
    "# model = DRAEMPack(in_channels=8)\n",
    "# tw.draw_model(model, [1, 8, 640, 640])"
   ]
  },
  {
   "cell_type": "code",
   "execution_count": null,
   "metadata": {},
   "outputs": [],
   "source": [
    "from DRAEM.base.model_unet import ReconstructiveSubNetwork\n",
    "\n",
    "model = ReconstructiveSubNetwork(in_channels=8, out_channels=8)\n",
    "tw.draw_model(model, [1, 8, 640, 640])"
   ]
  },
  {
   "cell_type": "code",
   "execution_count": null,
   "metadata": {},
   "outputs": [],
   "source": [
    "from DRAEM.base.model_unet import DiscriminativeSubNetwork\n",
    "\n",
    "model = DiscriminativeSubNetwork(in_channels=16, out_channels=2)\n",
    "tw.draw_model(model, [1, 16, 640, 640])"
   ]
  },
  {
   "cell_type": "code",
   "execution_count": null,
   "metadata": {},
   "outputs": [],
   "source": [
    "!source ~/.bashrc\n",
    "!echo $PATH"
   ]
  }
 ],
 "metadata": {
  "kernelspec": {
   "display_name": "draem",
   "language": "python",
   "name": "python3"
  },
  "language_info": {
   "codemirror_mode": {
    "name": "ipython",
    "version": 3
   },
   "file_extension": ".py",
   "mimetype": "text/x-python",
   "name": "python",
   "nbconvert_exporter": "python",
   "pygments_lexer": "ipython3",
   "version": "3.8.18"
  }
 },
 "nbformat": 4,
 "nbformat_minor": 2
}
